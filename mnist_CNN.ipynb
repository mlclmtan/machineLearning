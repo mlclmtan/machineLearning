{
  "nbformat": 4,
  "nbformat_minor": 0,
  "metadata": {
    "colab": {
      "name": "mnist_CNN2.ipynb",
      "provenance": []
    },
    "kernelspec": {
      "name": "python3",
      "display_name": "Python 3"
    },
    "accelerator": "GPU"
  },
  "cells": [
    {
      "cell_type": "code",
      "metadata": {
        "id": "K6UD-Lz3qc7H",
        "colab_type": "code",
        "colab": {}
      },
      "source": [
        "import numpy as np\n",
        "import pandas as pd\n",
        "import matplotlib.pyplot as plt\n",
        "from keras.utils import np_utils\n",
        "from keras.datasets import mnist\n",
        "from keras.models import Sequential\n",
        "from keras.layers import Activation, Dense\n",
        "from ipywidgets import interact_manual\n",
        "from keras.layers import Activation, Dense, Dropout, Flatten, Conv2D, MaxPooling2D, ZeroPadding2D\n",
        "from keras import backend as K"
      ],
      "execution_count": 9,
      "outputs": []
    },
    {
      "cell_type": "code",
      "metadata": {
        "id": "qqWpM1zECI5F",
        "colab_type": "code",
        "colab": {}
      },
      "source": [
        "#download data\n",
        "(x_train_image, y_train_label), (x_test_image, y_test_label) = mnist.load_data()"
      ],
      "execution_count": 10,
      "outputs": []
    },
    {
      "cell_type": "code",
      "metadata": {
        "id": "fJO-P977uoUc",
        "colab_type": "code",
        "colab": {}
      },
      "source": [
        "if K.image_data_format() == 'channels_first':\n",
        "    x_train_image = x_train_image.reshape(x_train_image.shape[0], 1, 28, 28)\n",
        "    x_test_image = x_test_image.reshape(x_test_image.shape[0], 1, 28, 28)\n",
        "    input_shape = (1, 28, 28)\n",
        "else:\n",
        "    x_train_image = x_train_image.reshape(x_train_image.shape[0], 28, 28, 1)\n",
        "    x_test_image = x_test_image.reshape(x_test_image.shape[0], 28, 28, 1)\n",
        "    input_shape = (28, 28, 1)"
      ],
      "execution_count": 11,
      "outputs": []
    },
    {
      "cell_type": "code",
      "metadata": {
        "id": "y1_yBVmHIBS9",
        "colab_type": "code",
        "colab": {}
      },
      "source": [
        "x_Train = x_train_image.astype('float32') #reshape array形狀，從一排變成 60k row x 784 col\n",
        "x_Test = x_test_image.astype('float32')"
      ],
      "execution_count": 17,
      "outputs": []
    },
    {
      "cell_type": "code",
      "metadata": {
        "id": "4Sy8I09pFOVJ",
        "colab_type": "code",
        "colab": {}
      },
      "source": [
        "#正規化 255colour\n",
        "x_Train_normalize = x_Train/255 \n",
        "x_Test_normalize = x_Test/255"
      ],
      "execution_count": 18,
      "outputs": []
    },
    {
      "cell_type": "code",
      "metadata": {
        "id": "sDesRlb4FiSG",
        "colab_type": "code",
        "colab": {}
      },
      "source": [
        "#答案變成binary顯示\n",
        "y_Train_OneHot = np_utils.to_categorical(y_train_label) \n",
        "y_Test_OneHot = np_utils.to_categorical(y_test_label)\n",
        "#把一個號碼，變成array中0~9的binary code形式"
      ],
      "execution_count": 19,
      "outputs": []
    },
    {
      "cell_type": "code",
      "metadata": {
        "id": "U45W9vdPVMS3",
        "colab_type": "code",
        "colab": {}
      },
      "source": [
        "model = Sequential() #線性堆疊model\n",
        "#1,2層：Convolution\n",
        "model.add(Conv2D(filters=32, \n",
        "                 #filter數目不固定，大部分一個pixel會使用32個\n",
        "                 #因為filter內數值隨機，越多filter越該準確度，\n",
        "                 #下一層pooling也是用32個\n",
        "                 #(3px*3px*3rgb+1bias)*32filter\n",
        "                 kernel_size=(3,3), \n",
        "                 #convolution compute的特征值3x3\n",
        "                input_shape=(28, 28, 1),\n",
        "                activation='relu')) #激發函數 ->線性，因為是絕對的輸入值\n",
        "#2,3層：              \n",
        "model.add(Conv2D(64, (3, 3), activation='relu'))\n",
        "#3,4層：Pooling 2x2的移動window\n",
        "model.add(MaxPooling2D(pool_size=(2,2)))\n",
        "\n",
        "model.add(Dropout(0.25))\n",
        "model.add(Flatten()) #multi-D 轉成 neural network需要的1D資料\n",
        "model.add(Dense(128,activation='relu')) #neural network個數，激發函數：線性整流\n",
        "model.add(Dropout(0.5))\n",
        "model.add(Dense(10,activation='softmax')) #只有10個output，所以output neuron有10個\n",
        "\n",
        "# print(model.summary())\n",
        "#1: filter是3x3的，所以一次feed 9pixel，加上colour channel就9*3rgb=27neuron。加上bias，一次3x3用了28neuron。"
      ],
      "execution_count": 20,
      "outputs": []
    },
    {
      "cell_type": "code",
      "metadata": {
        "id": "6TQuzDDqI1Cs",
        "colab_type": "code",
        "colab": {
          "base_uri": "https://localhost:8080/",
          "height": 470
        },
        "outputId": "e5d9eb3e-8117-4637-8019-efdb8a458346"
      },
      "source": [
        "#開始train model\n",
        "model.compile(loss='categorical_crossentropy', #calculate predict和actual 的差距\n",
        "              optimizer='adam', metrics=['accuracy']) #優化、評估模型的方法\n",
        "train_history = model.fit(x=x_Train_normalize,\n",
        "                          y=y_Train_OneHot, \n",
        "                          validation_split=0.2, #y is actual ans 其它是預設參數,\n",
        "                          batch_size=128,\n",
        "                            epochs=12,\n",
        "                            verbose=1,\n",
        "                            validation_data=(x_Test_normalize, y_Test_OneHot))\n",
        "score = model.evaluate(x_Test_normalize, y_Test_OneHot, verbose=0)"
      ],
      "execution_count": 22,
      "outputs": [
        {
          "output_type": "stream",
          "text": [
            "Train on 60000 samples, validate on 10000 samples\n",
            "Epoch 1/12\n",
            "60000/60000 [==============================] - 5s 79us/step - loss: 0.0205 - accuracy: 0.9933 - val_loss: 0.0303 - val_accuracy: 0.9926\n",
            "Epoch 2/12\n",
            "60000/60000 [==============================] - 5s 76us/step - loss: 0.0184 - accuracy: 0.9937 - val_loss: 0.0334 - val_accuracy: 0.9916\n",
            "Epoch 3/12\n",
            "60000/60000 [==============================] - 4s 75us/step - loss: 0.0159 - accuracy: 0.9951 - val_loss: 0.0314 - val_accuracy: 0.9922\n",
            "Epoch 4/12\n",
            "60000/60000 [==============================] - 5s 76us/step - loss: 0.0162 - accuracy: 0.9944 - val_loss: 0.0316 - val_accuracy: 0.9922\n",
            "Epoch 5/12\n",
            "60000/60000 [==============================] - 5s 75us/step - loss: 0.0143 - accuracy: 0.9953 - val_loss: 0.0312 - val_accuracy: 0.9918\n",
            "Epoch 6/12\n",
            "60000/60000 [==============================] - 5s 75us/step - loss: 0.0147 - accuracy: 0.9950 - val_loss: 0.0271 - val_accuracy: 0.9927\n",
            "Epoch 7/12\n",
            "60000/60000 [==============================] - 4s 75us/step - loss: 0.0142 - accuracy: 0.9953 - val_loss: 0.0301 - val_accuracy: 0.9922\n",
            "Epoch 8/12\n",
            "60000/60000 [==============================] - 5s 75us/step - loss: 0.0123 - accuracy: 0.9956 - val_loss: 0.0324 - val_accuracy: 0.9932\n",
            "Epoch 9/12\n",
            "60000/60000 [==============================] - 5s 76us/step - loss: 0.0128 - accuracy: 0.9954 - val_loss: 0.0318 - val_accuracy: 0.9934\n",
            "Epoch 10/12\n",
            "60000/60000 [==============================] - 5s 77us/step - loss: 0.0115 - accuracy: 0.9963 - val_loss: 0.0298 - val_accuracy: 0.9935\n",
            "Epoch 11/12\n",
            "60000/60000 [==============================] - 5s 75us/step - loss: 0.0113 - accuracy: 0.9961 - val_loss: 0.0355 - val_accuracy: 0.9920\n",
            "Epoch 12/12\n",
            "60000/60000 [==============================] - 5s 75us/step - loss: 0.0118 - accuracy: 0.9961 - val_loss: 0.0289 - val_accuracy: 0.9932\n",
            "Test loss: 0.028949487208390582\n",
            "Test accuracy: 0.9932000041007996\n"
          ],
          "name": "stdout"
        }
      ]
    },
    {
      "cell_type": "code",
      "metadata": {
        "id": "JSkSg-9qzW5c",
        "colab_type": "code",
        "colab": {
          "base_uri": "https://localhost:8080/",
          "height": 50
        },
        "outputId": "c2877dcc-291c-4dfe-edde-d835f47c16d3"
      },
      "source": [
        "print('Loss:', score[0])\n",
        "print('準確率：', score[1]*100,'%')"
      ],
      "execution_count": 23,
      "outputs": [
        {
          "output_type": "stream",
          "text": [
            "Loss: 0.028949487208390582\n",
            "準確率： 99.32000041007996 %\n"
          ],
          "name": "stdout"
        }
      ]
    },
    {
      "cell_type": "code",
      "metadata": {
        "id": "Zx3tplm_Ja4u",
        "colab_type": "code",
        "colab": {
          "base_uri": "https://localhost:8080/",
          "height": 50
        },
        "outputId": "316e6cf3-5665-4afa-9747-72f82c647c02"
      },
      "source": [
        "#幾乎predict對\n",
        "prediction = model.predict_classes(x_Test_normalize)\n",
        "print(prediction)\n",
        "print(y_test_label)"
      ],
      "execution_count": 24,
      "outputs": [
        {
          "output_type": "stream",
          "text": [
            "[7 2 1 ... 4 5 6]\n",
            "[7 2 1 ... 4 5 6]\n"
          ],
          "name": "stdout"
        }
      ]
    },
    {
      "cell_type": "code",
      "metadata": {
        "id": "2B_Ps1P4J6PW",
        "colab_type": "code",
        "colab": {}
      },
      "source": [
        "#找出錯誤前兩百筆\n",
        "for i in range(0,200):\n",
        "  if prediction[i] != y_test_label[i]:\n",
        "    print(i, prediction[i], y_test_label[i])"
      ],
      "execution_count": 25,
      "outputs": []
    },
    {
      "cell_type": "code",
      "metadata": {
        "id": "TDEPggbp6ebt",
        "colab_type": "code",
        "colab": {
          "base_uri": "https://localhost:8080/",
          "height": 34
        },
        "outputId": "5699990e-5a23-4ba3-d4e8-e564992bbddc"
      },
      "source": [
        "#找出錯誤的資料\n",
        "def showInfor(images, labels, prediction, idx):\n",
        "  fig = plt.gcf() \n",
        "  fig.set_size_inches(12, 14) \n",
        "  num=25\n",
        "  i=0\n",
        "  while i < num:\n",
        "    if labels[idx] != prediction[idx]:\n",
        "      ax = plt.subplot(5,5, 1+i) # 小圖：size5x5、第1個，第2個，。。。按順序初始化第i圖\n",
        "      ax.imshow(images[idx], cmap='binary') #第幾個圖\n",
        "      title = \"label=\" + str(labels[idx]) #答案\n",
        "      title += \",predict=\" +str(prediction[idx]) #預測 \n",
        "      ax. set_title(title,fontsize=10) \n",
        "      ax.set_xticks([]) #隱藏xy label\n",
        "      ax.set_yticks([])\n",
        "      i+=1\n",
        "    idx+=1\n",
        "  plt.show()\n",
        "# showInfor(x_test_image, y_test_label, prediction, idx=0)\n",
        "\n",
        "errorListCount={}\n",
        "errorList={}\n",
        "def showInfor2(labels, prediction):\n",
        "  for i in range(len(labels)):\n",
        "    if(labels[i],prediction[i]) in errorList.keys():\n",
        "      errorListCount[(labels[i],prediction[i])] +=1\n",
        "      errorList[(labels[i],prediction[i])].append(i)\n",
        "    else:\n",
        "      errorListCount[(labels[i],prediction[i])] =1\n",
        "      errorList[(labels[i],prediction[i])] = [i]\n",
        "showInfor2(y_test_label, prediction)\n",
        "display(errorList[(3,8)])"
      ],
      "execution_count": 26,
      "outputs": [
        {
          "output_type": "display_data",
          "data": {
            "text/plain": [
              "[5955]"
            ]
          },
          "metadata": {
            "tags": []
          }
        }
      ]
    },
    {
      "cell_type": "code",
      "metadata": {
        "id": "xJJyhMbdn9np",
        "colab_type": "code",
        "colab": {}
      },
      "source": [
        "def plot_images_labels_prediction(images,labels,prediction,count): \n",
        "  fig = plt.gcf() \n",
        "  fig.set_size_inches(12, 14) \n",
        "  if count>25: count=25 \n",
        "  idx=0\n",
        "  if (labels, prediction) in errorList:\n",
        "    for idx in range(0, count): \n",
        "      if len(errorList[(labels, prediction)]) <= idx:\n",
        "        break\n",
        "      ax = plt.subplot(5,5, 1+idx) # 小圖：size5x5、第1個，第2個，。。。按順序初始化第i圖\n",
        "      ax.imshow(images[errorList[(labels,prediction)][idx]], cmap='binary') #第幾個圖\n",
        "      title = \"id=\" + str(errorList[(labels,prediction)][idx]) #答案\n",
        "      title += \",label=\" + str(labels) #答案\n",
        "      title += \",predict=\" +str(prediction) #預測 \n",
        "      ax. set_title(title,fontsize=10) \n",
        "      ax.set_xticks([]) #隱藏xy label\n",
        "      ax.set_yticks([])\n",
        "      idx+=1\n",
        "  plt.show()"
      ],
      "execution_count": 27,
      "outputs": []
    },
    {
      "cell_type": "code",
      "metadata": {
        "id": "wVMoU99foaC2",
        "colab_type": "code",
        "colab": {
          "base_uri": "https://localhost:8080/",
          "height": 454
        },
        "outputId": "c15d470b-c95d-4ddf-ff20-80ed9e7494a2"
      },
      "source": [
        "plot_images_labels_prediction(x_test_image, 3,8,10)"
      ],
      "execution_count": 28,
      "outputs": [
        {
          "output_type": "error",
          "ename": "TypeError",
          "evalue": "ignored",
          "traceback": [
            "\u001b[0;31m---------------------------------------------------------------------------\u001b[0m",
            "\u001b[0;31mTypeError\u001b[0m                                 Traceback (most recent call last)",
            "\u001b[0;32m<ipython-input-28-b2f9040074ec>\u001b[0m in \u001b[0;36m<module>\u001b[0;34m()\u001b[0m\n\u001b[0;32m----> 1\u001b[0;31m \u001b[0mplot_images_labels_prediction\u001b[0m\u001b[0;34m(\u001b[0m\u001b[0mx_test_image\u001b[0m\u001b[0;34m,\u001b[0m \u001b[0;36m3\u001b[0m\u001b[0;34m,\u001b[0m\u001b[0;36m8\u001b[0m\u001b[0;34m,\u001b[0m\u001b[0;36m10\u001b[0m\u001b[0;34m)\u001b[0m\u001b[0;34m\u001b[0m\u001b[0;34m\u001b[0m\u001b[0m\n\u001b[0m",
            "\u001b[0;32m<ipython-input-27-2be99c4c1115>\u001b[0m in \u001b[0;36mplot_images_labels_prediction\u001b[0;34m(images, labels, prediction, count)\u001b[0m\n\u001b[1;32m      9\u001b[0m         \u001b[0;32mbreak\u001b[0m\u001b[0;34m\u001b[0m\u001b[0;34m\u001b[0m\u001b[0m\n\u001b[1;32m     10\u001b[0m       \u001b[0max\u001b[0m \u001b[0;34m=\u001b[0m \u001b[0mplt\u001b[0m\u001b[0;34m.\u001b[0m\u001b[0msubplot\u001b[0m\u001b[0;34m(\u001b[0m\u001b[0;36m5\u001b[0m\u001b[0;34m,\u001b[0m\u001b[0;36m5\u001b[0m\u001b[0;34m,\u001b[0m \u001b[0;36m1\u001b[0m\u001b[0;34m+\u001b[0m\u001b[0midx\u001b[0m\u001b[0;34m)\u001b[0m \u001b[0;31m# 小圖：size5x5、第1個，第2個，。。。按順序初始化第i圖\u001b[0m\u001b[0;34m\u001b[0m\u001b[0;34m\u001b[0m\u001b[0m\n\u001b[0;32m---> 11\u001b[0;31m       \u001b[0max\u001b[0m\u001b[0;34m.\u001b[0m\u001b[0mimshow\u001b[0m\u001b[0;34m(\u001b[0m\u001b[0mimages\u001b[0m\u001b[0;34m[\u001b[0m\u001b[0merrorList\u001b[0m\u001b[0;34m[\u001b[0m\u001b[0;34m(\u001b[0m\u001b[0mlabels\u001b[0m\u001b[0;34m,\u001b[0m\u001b[0mprediction\u001b[0m\u001b[0;34m)\u001b[0m\u001b[0;34m]\u001b[0m\u001b[0;34m[\u001b[0m\u001b[0midx\u001b[0m\u001b[0;34m]\u001b[0m\u001b[0;34m]\u001b[0m\u001b[0;34m,\u001b[0m \u001b[0mcmap\u001b[0m\u001b[0;34m=\u001b[0m\u001b[0;34m'binary'\u001b[0m\u001b[0;34m)\u001b[0m \u001b[0;31m#第幾個圖\u001b[0m\u001b[0;34m\u001b[0m\u001b[0;34m\u001b[0m\u001b[0m\n\u001b[0m\u001b[1;32m     12\u001b[0m       \u001b[0mtitle\u001b[0m \u001b[0;34m=\u001b[0m \u001b[0;34m\"id=\"\u001b[0m \u001b[0;34m+\u001b[0m \u001b[0mstr\u001b[0m\u001b[0;34m(\u001b[0m\u001b[0merrorList\u001b[0m\u001b[0;34m[\u001b[0m\u001b[0;34m(\u001b[0m\u001b[0mlabels\u001b[0m\u001b[0;34m,\u001b[0m\u001b[0mprediction\u001b[0m\u001b[0;34m)\u001b[0m\u001b[0;34m]\u001b[0m\u001b[0;34m[\u001b[0m\u001b[0midx\u001b[0m\u001b[0;34m]\u001b[0m\u001b[0;34m)\u001b[0m \u001b[0;31m#答案\u001b[0m\u001b[0;34m\u001b[0m\u001b[0;34m\u001b[0m\u001b[0m\n\u001b[1;32m     13\u001b[0m       \u001b[0mtitle\u001b[0m \u001b[0;34m+=\u001b[0m \u001b[0;34m\",label=\"\u001b[0m \u001b[0;34m+\u001b[0m \u001b[0mstr\u001b[0m\u001b[0;34m(\u001b[0m\u001b[0mlabels\u001b[0m\u001b[0;34m)\u001b[0m \u001b[0;31m#答案\u001b[0m\u001b[0;34m\u001b[0m\u001b[0;34m\u001b[0m\u001b[0m\n",
            "\u001b[0;32m/usr/local/lib/python3.6/dist-packages/matplotlib/__init__.py\u001b[0m in \u001b[0;36minner\u001b[0;34m(ax, data, *args, **kwargs)\u001b[0m\n\u001b[1;32m   1563\u001b[0m     \u001b[0;32mdef\u001b[0m \u001b[0minner\u001b[0m\u001b[0;34m(\u001b[0m\u001b[0max\u001b[0m\u001b[0;34m,\u001b[0m \u001b[0;34m*\u001b[0m\u001b[0margs\u001b[0m\u001b[0;34m,\u001b[0m \u001b[0mdata\u001b[0m\u001b[0;34m=\u001b[0m\u001b[0;32mNone\u001b[0m\u001b[0;34m,\u001b[0m \u001b[0;34m**\u001b[0m\u001b[0mkwargs\u001b[0m\u001b[0;34m)\u001b[0m\u001b[0;34m:\u001b[0m\u001b[0;34m\u001b[0m\u001b[0;34m\u001b[0m\u001b[0m\n\u001b[1;32m   1564\u001b[0m         \u001b[0;32mif\u001b[0m \u001b[0mdata\u001b[0m \u001b[0;32mis\u001b[0m \u001b[0;32mNone\u001b[0m\u001b[0;34m:\u001b[0m\u001b[0;34m\u001b[0m\u001b[0;34m\u001b[0m\u001b[0m\n\u001b[0;32m-> 1565\u001b[0;31m             \u001b[0;32mreturn\u001b[0m \u001b[0mfunc\u001b[0m\u001b[0;34m(\u001b[0m\u001b[0max\u001b[0m\u001b[0;34m,\u001b[0m \u001b[0;34m*\u001b[0m\u001b[0mmap\u001b[0m\u001b[0;34m(\u001b[0m\u001b[0msanitize_sequence\u001b[0m\u001b[0;34m,\u001b[0m \u001b[0margs\u001b[0m\u001b[0;34m)\u001b[0m\u001b[0;34m,\u001b[0m \u001b[0;34m**\u001b[0m\u001b[0mkwargs\u001b[0m\u001b[0;34m)\u001b[0m\u001b[0;34m\u001b[0m\u001b[0;34m\u001b[0m\u001b[0m\n\u001b[0m\u001b[1;32m   1566\u001b[0m \u001b[0;34m\u001b[0m\u001b[0m\n\u001b[1;32m   1567\u001b[0m         \u001b[0mbound\u001b[0m \u001b[0;34m=\u001b[0m \u001b[0mnew_sig\u001b[0m\u001b[0;34m.\u001b[0m\u001b[0mbind\u001b[0m\u001b[0;34m(\u001b[0m\u001b[0max\u001b[0m\u001b[0;34m,\u001b[0m \u001b[0;34m*\u001b[0m\u001b[0margs\u001b[0m\u001b[0;34m,\u001b[0m \u001b[0;34m**\u001b[0m\u001b[0mkwargs\u001b[0m\u001b[0;34m)\u001b[0m\u001b[0;34m\u001b[0m\u001b[0;34m\u001b[0m\u001b[0m\n",
            "\u001b[0;32m/usr/local/lib/python3.6/dist-packages/matplotlib/cbook/deprecation.py\u001b[0m in \u001b[0;36mwrapper\u001b[0;34m(*args, **kwargs)\u001b[0m\n\u001b[1;32m    356\u001b[0m                 \u001b[0;34mf\"%(removal)s.  If any parameter follows {name!r}, they \"\u001b[0m\u001b[0;34m\u001b[0m\u001b[0;34m\u001b[0m\u001b[0m\n\u001b[1;32m    357\u001b[0m                 f\"should be pass as keyword, not positionally.\")\n\u001b[0;32m--> 358\u001b[0;31m         \u001b[0;32mreturn\u001b[0m \u001b[0mfunc\u001b[0m\u001b[0;34m(\u001b[0m\u001b[0;34m*\u001b[0m\u001b[0margs\u001b[0m\u001b[0;34m,\u001b[0m \u001b[0;34m**\u001b[0m\u001b[0mkwargs\u001b[0m\u001b[0;34m)\u001b[0m\u001b[0;34m\u001b[0m\u001b[0;34m\u001b[0m\u001b[0m\n\u001b[0m\u001b[1;32m    359\u001b[0m \u001b[0;34m\u001b[0m\u001b[0m\n\u001b[1;32m    360\u001b[0m     \u001b[0;32mreturn\u001b[0m \u001b[0mwrapper\u001b[0m\u001b[0;34m\u001b[0m\u001b[0;34m\u001b[0m\u001b[0m\n",
            "\u001b[0;32m/usr/local/lib/python3.6/dist-packages/matplotlib/cbook/deprecation.py\u001b[0m in \u001b[0;36mwrapper\u001b[0;34m(*args, **kwargs)\u001b[0m\n\u001b[1;32m    356\u001b[0m                 \u001b[0;34mf\"%(removal)s.  If any parameter follows {name!r}, they \"\u001b[0m\u001b[0;34m\u001b[0m\u001b[0;34m\u001b[0m\u001b[0m\n\u001b[1;32m    357\u001b[0m                 f\"should be pass as keyword, not positionally.\")\n\u001b[0;32m--> 358\u001b[0;31m         \u001b[0;32mreturn\u001b[0m \u001b[0mfunc\u001b[0m\u001b[0;34m(\u001b[0m\u001b[0;34m*\u001b[0m\u001b[0margs\u001b[0m\u001b[0;34m,\u001b[0m \u001b[0;34m**\u001b[0m\u001b[0mkwargs\u001b[0m\u001b[0;34m)\u001b[0m\u001b[0;34m\u001b[0m\u001b[0;34m\u001b[0m\u001b[0m\n\u001b[0m\u001b[1;32m    359\u001b[0m \u001b[0;34m\u001b[0m\u001b[0m\n\u001b[1;32m    360\u001b[0m     \u001b[0;32mreturn\u001b[0m \u001b[0mwrapper\u001b[0m\u001b[0;34m\u001b[0m\u001b[0;34m\u001b[0m\u001b[0m\n",
            "\u001b[0;32m/usr/local/lib/python3.6/dist-packages/matplotlib/axes/_axes.py\u001b[0m in \u001b[0;36mimshow\u001b[0;34m(self, X, cmap, norm, aspect, interpolation, alpha, vmin, vmax, origin, extent, shape, filternorm, filterrad, imlim, resample, url, **kwargs)\u001b[0m\n\u001b[1;32m   5613\u001b[0m                               resample=resample, **kwargs)\n\u001b[1;32m   5614\u001b[0m \u001b[0;34m\u001b[0m\u001b[0m\n\u001b[0;32m-> 5615\u001b[0;31m         \u001b[0mim\u001b[0m\u001b[0;34m.\u001b[0m\u001b[0mset_data\u001b[0m\u001b[0;34m(\u001b[0m\u001b[0mX\u001b[0m\u001b[0;34m)\u001b[0m\u001b[0;34m\u001b[0m\u001b[0;34m\u001b[0m\u001b[0m\n\u001b[0m\u001b[1;32m   5616\u001b[0m         \u001b[0mim\u001b[0m\u001b[0;34m.\u001b[0m\u001b[0mset_alpha\u001b[0m\u001b[0;34m(\u001b[0m\u001b[0malpha\u001b[0m\u001b[0;34m)\u001b[0m\u001b[0;34m\u001b[0m\u001b[0;34m\u001b[0m\u001b[0m\n\u001b[1;32m   5617\u001b[0m         \u001b[0;32mif\u001b[0m \u001b[0mim\u001b[0m\u001b[0;34m.\u001b[0m\u001b[0mget_clip_path\u001b[0m\u001b[0;34m(\u001b[0m\u001b[0;34m)\u001b[0m \u001b[0;32mis\u001b[0m \u001b[0;32mNone\u001b[0m\u001b[0;34m:\u001b[0m\u001b[0;34m\u001b[0m\u001b[0;34m\u001b[0m\u001b[0m\n",
            "\u001b[0;32m/usr/local/lib/python3.6/dist-packages/matplotlib/image.py\u001b[0m in \u001b[0;36mset_data\u001b[0;34m(self, A)\u001b[0m\n\u001b[1;32m    697\u001b[0m                 or self._A.ndim == 3 and self._A.shape[-1] in [3, 4]):\n\u001b[1;32m    698\u001b[0m             raise TypeError(\"Invalid shape {} for image data\"\n\u001b[0;32m--> 699\u001b[0;31m                             .format(self._A.shape))\n\u001b[0m\u001b[1;32m    700\u001b[0m \u001b[0;34m\u001b[0m\u001b[0m\n\u001b[1;32m    701\u001b[0m         \u001b[0;32mif\u001b[0m \u001b[0mself\u001b[0m\u001b[0;34m.\u001b[0m\u001b[0m_A\u001b[0m\u001b[0;34m.\u001b[0m\u001b[0mndim\u001b[0m \u001b[0;34m==\u001b[0m \u001b[0;36m3\u001b[0m\u001b[0;34m:\u001b[0m\u001b[0;34m\u001b[0m\u001b[0;34m\u001b[0m\u001b[0m\n",
            "\u001b[0;31mTypeError\u001b[0m: Invalid shape (28, 28, 1) for image data"
          ]
        },
        {
          "output_type": "display_data",
          "data": {
            "image/png": "[encoded data removed]",
            "text/plain": [
              "<Figure size 864x1008 with 1 Axes>"
            ]
          },
          "metadata": {
            "tags": [],
            "needs_background": "light"
          }
        }
      ]
    },
    {
      "cell_type": "code",
      "metadata": {
        "id": "f212GxuCqyfH",
        "colab_type": "code",
        "colab": {}
      },
      "source": [
        "def find(actual,prediction,count):\n",
        "  plot_images_labels_prediction(x_test_image, actual,prediction,count)\n",
        "\n",
        "interact_manual(find, actual=(0,9), prediction=(0,9), count=(1,25))"
      ],
      "execution_count": null,
      "outputs": []
    },
    {
      "cell_type": "code",
      "metadata": {
        "id": "qq6B2LyhEeSe",
        "colab_type": "code",
        "colab": {}
      },
      "source": [
        "#x_train_image[0]"
      ],
      "execution_count": null,
      "outputs": []
    }
  ]
}