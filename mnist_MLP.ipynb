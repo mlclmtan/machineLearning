{
  "nbformat": 4,
  "nbformat_minor": 0,
  "metadata": {
    "colab": {
      "name": "mnist_MLP.ipynb",
      "provenance": []
    },
    "kernelspec": {
      "name": "python3",
      "display_name": "Python 3"
    },
    "accelerator": "GPU",
    "widgets": {
      "application/vnd.jupyter.widget-state+json": {
        "525c0d564eb848dea6f93f1ee9d113fa": {
          "model_module": "@jupyter-widgets/controls",
          "model_name": "VBoxModel",
          "state": {
            "_view_name": "VBoxView",
            "_dom_classes": [
              "widget-interact"
            ],
            "_model_name": "VBoxModel",
            "_view_module": "@jupyter-widgets/controls",
            "_model_module_version": "1.5.0",
            "_view_count": null,
            "_view_module_version": "1.5.0",
            "box_style": "",
            "layout": "IPY_MODEL_7b6eedf756dd4be6a5d340e8fff4b9d6",
            "_model_module": "@jupyter-widgets/controls",
            "children": [
              "IPY_MODEL_551138e770d94ed787e11ef33f67b335",
              "IPY_MODEL_d80e343ec4ab46cda01a040e639f0983",
              "IPY_MODEL_f3c83da3947849c0a5e0f5f9f18a0c6c",
              "IPY_MODEL_6a8b931340ca446cbc1b02c2551e5e6d",
              "IPY_MODEL_19109fbca4034383af1006767c99f4a0"
            ]
          }
        },
        "7b6eedf756dd4be6a5d340e8fff4b9d6": {
          "model_module": "@jupyter-widgets/base",
          "model_name": "LayoutModel",
          "state": {
            "_view_name": "LayoutView",
            "grid_template_rows": null,
            "right": null,
            "justify_content": null,
            "_view_module": "@jupyter-widgets/base",
            "overflow": null,
            "_model_module_version": "1.2.0",
            "_view_count": null,
            "flex_flow": null,
            "width": null,
            "min_width": null,
            "border": null,
            "align_items": null,
            "bottom": null,
            "_model_module": "@jupyter-widgets/base",
            "top": null,
            "grid_column": null,
            "overflow_y": null,
            "overflow_x": null,
            "grid_auto_flow": null,
            "grid_area": null,
            "grid_template_columns": null,
            "flex": null,
            "_model_name": "LayoutModel",
            "justify_items": null,
            "grid_row": null,
            "max_height": null,
            "align_content": null,
            "visibility": null,
            "align_self": null,
            "height": null,
            "min_height": null,
            "padding": null,
            "grid_auto_rows": null,
            "grid_gap": null,
            "max_width": null,
            "order": null,
            "_view_module_version": "1.2.0",
            "grid_template_areas": null,
            "object_position": null,
            "object_fit": null,
            "grid_auto_columns": null,
            "margin": null,
            "display": null,
            "left": null
          }
        },
        "551138e770d94ed787e11ef33f67b335": {
          "model_module": "@jupyter-widgets/controls",
          "model_name": "IntSliderModel",
          "state": {
            "_view_name": "IntSliderView",
            "style": "IPY_MODEL_3121e5a087b84d9e8d29b49a6eedb9e7",
            "_dom_classes": [],
            "description": "actual",
            "step": 1,
            "_model_name": "IntSliderModel",
            "orientation": "horizontal",
            "max": 9,
            "_view_module": "@jupyter-widgets/controls",
            "_model_module_version": "1.5.0",
            "value": 3,
            "_view_count": null,
            "disabled": false,
            "_view_module_version": "1.5.0",
            "min": 0,
            "continuous_update": true,
            "readout_format": "d",
            "description_tooltip": null,
            "readout": true,
            "_model_module": "@jupyter-widgets/controls",
            "layout": "IPY_MODEL_c69273eddfad48d08295a4e8f5bbf765"
          }
        },
        "d80e343ec4ab46cda01a040e639f0983": {
          "model_module": "@jupyter-widgets/controls",
          "model_name": "IntSliderModel",
          "state": {
            "_view_name": "IntSliderView",
            "style": "IPY_MODEL_7e07176d09c6486687a504f36dbe479a",
            "_dom_classes": [],
            "description": "prediction",
            "step": 1,
            "_model_name": "IntSliderModel",
            "orientation": "horizontal",
            "max": 9,
            "_view_module": "@jupyter-widgets/controls",
            "_model_module_version": "1.5.0",
            "value": 5,
            "_view_count": null,
            "disabled": false,
            "_view_module_version": "1.5.0",
            "min": 0,
            "continuous_update": true,
            "readout_format": "d",
            "description_tooltip": null,
            "readout": true,
            "_model_module": "@jupyter-widgets/controls",
            "layout": "IPY_MODEL_f89a1b9d7bfa4fe38964209fe0691cf2"
          }
        },
        "f3c83da3947849c0a5e0f5f9f18a0c6c": {
          "model_module": "@jupyter-widgets/controls",
          "model_name": "IntSliderModel",
          "state": {
            "_view_name": "IntSliderView",
            "style": "IPY_MODEL_967143e5a6be48c08b81c2cae042a103",
            "_dom_classes": [],
            "description": "count",
            "step": 1,
            "_model_name": "IntSliderModel",
            "orientation": "horizontal",
            "max": 25,
            "_view_module": "@jupyter-widgets/controls",
            "_model_module_version": "1.5.0",
            "value": 25,
            "_view_count": null,
            "disabled": false,
            "_view_module_version": "1.5.0",
            "min": 1,
            "continuous_update": true,
            "readout_format": "d",
            "description_tooltip": null,
            "readout": true,
            "_model_module": "@jupyter-widgets/controls",
            "layout": "IPY_MODEL_fce9809960ae44b1b9afb28e26470820"
          }
        },
        "6a8b931340ca446cbc1b02c2551e5e6d": {
          "model_module": "@jupyter-widgets/controls",
          "model_name": "ButtonModel",
          "state": {
            "_view_name": "ButtonView",
            "style": "IPY_MODEL_3112164c27df4fff8914a0a3d612e30e",
            "_dom_classes": [],
            "description": "Run Interact",
            "_model_name": "ButtonModel",
            "button_style": "",
            "_view_module": "@jupyter-widgets/controls",
            "_model_module_version": "1.5.0",
            "tooltip": "",
            "_view_count": null,
            "disabled": false,
            "_view_module_version": "1.5.0",
            "layout": "IPY_MODEL_b24d7f5a6a9447a18b0cc54c9b0422ee",
            "_model_module": "@jupyter-widgets/controls",
            "icon": ""
          }
        },
        "19109fbca4034383af1006767c99f4a0": {
          "model_module": "@jupyter-widgets/output",
          "model_name": "OutputModel",
          "state": {
            "_view_name": "OutputView",
            "msg_id": "",
            "_dom_classes": [],
            "_model_name": "OutputModel",
            "outputs": [
              {
                "output_type": "display_data",
                "metadata": {
                  "tags": []
                },
                "image/png": "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\n",
                "text/plain": "<Figure size 864x1008 with 4 Axes>"
              }
            ],
            "_view_module": "@jupyter-widgets/output",
            "_model_module_version": "1.0.0",
            "_view_count": null,
            "_view_module_version": "1.0.0",
            "layout": "IPY_MODEL_deefaf96a0424e9aa7b179c74ee06ea6",
            "_model_module": "@jupyter-widgets/output"
          }
        },
        "3121e5a087b84d9e8d29b49a6eedb9e7": {
          "model_module": "@jupyter-widgets/controls",
          "model_name": "SliderStyleModel",
          "state": {
            "_view_name": "StyleView",
            "handle_color": null,
            "_model_name": "SliderStyleModel",
            "description_width": "",
            "_view_module": "@jupyter-widgets/base",
            "_model_module_version": "1.5.0",
            "_view_count": null,
            "_view_module_version": "1.2.0",
            "_model_module": "@jupyter-widgets/controls"
          }
        },
        "c69273eddfad48d08295a4e8f5bbf765": {
          "model_module": "@jupyter-widgets/base",
          "model_name": "LayoutModel",
          "state": {
            "_view_name": "LayoutView",
            "grid_template_rows": null,
            "right": null,
            "justify_content": null,
            "_view_module": "@jupyter-widgets/base",
            "overflow": null,
            "_model_module_version": "1.2.0",
            "_view_count": null,
            "flex_flow": null,
            "width": null,
            "min_width": null,
            "border": null,
            "align_items": null,
            "bottom": null,
            "_model_module": "@jupyter-widgets/base",
            "top": null,
            "grid_column": null,
            "overflow_y": null,
            "overflow_x": null,
            "grid_auto_flow": null,
            "grid_area": null,
            "grid_template_columns": null,
            "flex": null,
            "_model_name": "LayoutModel",
            "justify_items": null,
            "grid_row": null,
            "max_height": null,
            "align_content": null,
            "visibility": null,
            "align_self": null,
            "height": null,
            "min_height": null,
            "padding": null,
            "grid_auto_rows": null,
            "grid_gap": null,
            "max_width": null,
            "order": null,
            "_view_module_version": "1.2.0",
            "grid_template_areas": null,
            "object_position": null,
            "object_fit": null,
            "grid_auto_columns": null,
            "margin": null,
            "display": null,
            "left": null
          }
        },
        "7e07176d09c6486687a504f36dbe479a": {
          "model_module": "@jupyter-widgets/controls",
          "model_name": "SliderStyleModel",
          "state": {
            "_view_name": "StyleView",
            "handle_color": null,
            "_model_name": "SliderStyleModel",
            "description_width": "",
            "_view_module": "@jupyter-widgets/base",
            "_model_module_version": "1.5.0",
            "_view_count": null,
            "_view_module_version": "1.2.0",
            "_model_module": "@jupyter-widgets/controls"
          }
        },
        "f89a1b9d7bfa4fe38964209fe0691cf2": {
          "model_module": "@jupyter-widgets/base",
          "model_name": "LayoutModel",
          "state": {
            "_view_name": "LayoutView",
            "grid_template_rows": null,
            "right": null,
            "justify_content": null,
            "_view_module": "@jupyter-widgets/base",
            "overflow": null,
            "_model_module_version": "1.2.0",
            "_view_count": null,
            "flex_flow": null,
            "width": null,
            "min_width": null,
            "border": null,
            "align_items": null,
            "bottom": null,
            "_model_module": "@jupyter-widgets/base",
            "top": null,
            "grid_column": null,
            "overflow_y": null,
            "overflow_x": null,
            "grid_auto_flow": null,
            "grid_area": null,
            "grid_template_columns": null,
            "flex": null,
            "_model_name": "LayoutModel",
            "justify_items": null,
            "grid_row": null,
            "max_height": null,
            "align_content": null,
            "visibility": null,
            "align_self": null,
            "height": null,
            "min_height": null,
            "padding": null,
            "grid_auto_rows": null,
            "grid_gap": null,
            "max_width": null,
            "order": null,
            "_view_module_version": "1.2.0",
            "grid_template_areas": null,
            "object_position": null,
            "object_fit": null,
            "grid_auto_columns": null,
            "margin": null,
            "display": null,
            "left": null
          }
        },
        "967143e5a6be48c08b81c2cae042a103": {
          "model_module": "@jupyter-widgets/controls",
          "model_name": "SliderStyleModel",
          "state": {
            "_view_name": "StyleView",
            "handle_color": null,
            "_model_name": "SliderStyleModel",
            "description_width": "",
            "_view_module": "@jupyter-widgets/base",
            "_model_module_version": "1.5.0",
            "_view_count": null,
            "_view_module_version": "1.2.0",
            "_model_module": "@jupyter-widgets/controls"
          }
        },
        "fce9809960ae44b1b9afb28e26470820": {
          "model_module": "@jupyter-widgets/base",
          "model_name": "LayoutModel",
          "state": {
            "_view_name": "LayoutView",
            "grid_template_rows": null,
            "right": null,
            "justify_content": null,
            "_view_module": "@jupyter-widgets/base",
            "overflow": null,
            "_model_module_version": "1.2.0",
            "_view_count": null,
            "flex_flow": null,
            "width": null,
            "min_width": null,
            "border": null,
            "align_items": null,
            "bottom": null,
            "_model_module": "@jupyter-widgets/base",
            "top": null,
            "grid_column": null,
            "overflow_y": null,
            "overflow_x": null,
            "grid_auto_flow": null,
            "grid_area": null,
            "grid_template_columns": null,
            "flex": null,
            "_model_name": "LayoutModel",
            "justify_items": null,
            "grid_row": null,
            "max_height": null,
            "align_content": null,
            "visibility": null,
            "align_self": null,
            "height": null,
            "min_height": null,
            "padding": null,
            "grid_auto_rows": null,
            "grid_gap": null,
            "max_width": null,
            "order": null,
            "_view_module_version": "1.2.0",
            "grid_template_areas": null,
            "object_position": null,
            "object_fit": null,
            "grid_auto_columns": null,
            "margin": null,
            "display": null,
            "left": null
          }
        },
        "3112164c27df4fff8914a0a3d612e30e": {
          "model_module": "@jupyter-widgets/controls",
          "model_name": "ButtonStyleModel",
          "state": {
            "_view_name": "StyleView",
            "_model_name": "ButtonStyleModel",
            "_view_module": "@jupyter-widgets/base",
            "_model_module_version": "1.5.0",
            "_view_count": null,
            "button_color": null,
            "font_weight": "",
            "_view_module_version": "1.2.0",
            "_model_module": "@jupyter-widgets/controls"
          }
        },
        "b24d7f5a6a9447a18b0cc54c9b0422ee": {
          "model_module": "@jupyter-widgets/base",
          "model_name": "LayoutModel",
          "state": {
            "_view_name": "LayoutView",
            "grid_template_rows": null,
            "right": null,
            "justify_content": null,
            "_view_module": "@jupyter-widgets/base",
            "overflow": null,
            "_model_module_version": "1.2.0",
            "_view_count": null,
            "flex_flow": null,
            "width": null,
            "min_width": null,
            "border": null,
            "align_items": null,
            "bottom": null,
            "_model_module": "@jupyter-widgets/base",
            "top": null,
            "grid_column": null,
            "overflow_y": null,
            "overflow_x": null,
            "grid_auto_flow": null,
            "grid_area": null,
            "grid_template_columns": null,
            "flex": null,
            "_model_name": "LayoutModel",
            "justify_items": null,
            "grid_row": null,
            "max_height": null,
            "align_content": null,
            "visibility": null,
            "align_self": null,
            "height": null,
            "min_height": null,
            "padding": null,
            "grid_auto_rows": null,
            "grid_gap": null,
            "max_width": null,
            "order": null,
            "_view_module_version": "1.2.0",
            "grid_template_areas": null,
            "object_position": null,
            "object_fit": null,
            "grid_auto_columns": null,
            "margin": null,
            "display": null,
            "left": null
          }
        },
        "deefaf96a0424e9aa7b179c74ee06ea6": {
          "model_module": "@jupyter-widgets/base",
          "model_name": "LayoutModel",
          "state": {
            "_view_name": "LayoutView",
            "grid_template_rows": null,
            "right": null,
            "justify_content": null,
            "_view_module": "@jupyter-widgets/base",
            "overflow": null,
            "_model_module_version": "1.2.0",
            "_view_count": null,
            "flex_flow": null,
            "width": null,
            "min_width": null,
            "border": null,
            "align_items": null,
            "bottom": null,
            "_model_module": "@jupyter-widgets/base",
            "top": null,
            "grid_column": null,
            "overflow_y": null,
            "overflow_x": null,
            "grid_auto_flow": null,
            "grid_area": null,
            "grid_template_columns": null,
            "flex": null,
            "_model_name": "LayoutModel",
            "justify_items": null,
            "grid_row": null,
            "max_height": null,
            "align_content": null,
            "visibility": null,
            "align_self": null,
            "height": null,
            "min_height": null,
            "padding": null,
            "grid_auto_rows": null,
            "grid_gap": null,
            "max_width": null,
            "order": null,
            "_view_module_version": "1.2.0",
            "grid_template_areas": null,
            "object_position": null,
            "object_fit": null,
            "grid_auto_columns": null,
            "margin": null,
            "display": null,
            "left": null
          }
        }
      }
    }
  },
  "cells": [
    {
      "cell_type": "code",
      "metadata": {
        "id": "K6UD-Lz3qc7H",
        "colab_type": "code",
        "colab": {
          "base_uri": "https://localhost:8080/",
          "height": 34
        },
        "outputId": "83b78145-fbbc-46ac-a5f1-45b73591687c"
      },
      "source": [
        "import numpy as np\n",
        "import pandas as pd\n",
        "import matplotlib.pyplot as plt\n",
        "from keras.utils import np_utils\n",
        "from keras.datasets import mnist\n",
        "from keras.models import Sequential\n",
        "from keras.layers import Activation, Dense\n",
        "from ipywidgets import interact_manual"
      ],
      "execution_count": 2,
      "outputs": [
        {
          "output_type": "stream",
          "text": [
            "Using TensorFlow backend.\n"
          ],
          "name": "stderr"
        }
      ]
    },
    {
      "cell_type": "code",
      "metadata": {
        "id": "qqWpM1zECI5F",
        "colab_type": "code",
        "colab": {
          "base_uri": "https://localhost:8080/",
          "height": 50
        },
        "outputId": "d0b5c26a-d0bd-40f6-d5ef-c6137b9bf03f"
      },
      "source": [
        "#download data\n",
        "(x_train_image, y_train_label), (x_test_image, y_test_label) = mnist.load_data()"
      ],
      "execution_count": 3,
      "outputs": [
        {
          "output_type": "stream",
          "text": [
            "Downloading data from https://s3.amazonaws.com/img-datasets/mnist.npz\n",
            "11493376/11490434 [==============================] - 1s 0us/step\n"
          ],
          "name": "stdout"
        }
      ]
    },
    {
      "cell_type": "code",
      "metadata": {
        "id": "u7ZPi0KZCvhG",
        "colab_type": "code",
        "colab": {}
      },
      "source": [
        "#資料的筆數\n",
        "# print ('x_train_image:', x_train_image.shape) #train資料有60k，28x28\n",
        "# print ('y_train_label:', y_train_label.shape) #train資料有60k答案\n",
        "# print ('x_test_image:', x_test_image.shape) #test資料有10k，28x28\n",
        "# print ('y_test_label:', y_test_label.shape)#test資料有10k答案\n",
        "# print('x_train:', x_Train.shape)\n",
        "# print('x_test:', x_Test.shape)"
      ],
      "execution_count": 4,
      "outputs": []
    },
    {
      "cell_type": "code",
      "metadata": {
        "id": "y1_yBVmHIBS9",
        "colab_type": "code",
        "colab": {}
      },
      "source": [
        "x_Train = x_train_image.reshape(60000,784).astype('float32') #reshape array形狀，從一排變成 60k row x 784 col\n",
        "x_Test = x_test_image.reshape(10000,784).astype('float32')"
      ],
      "execution_count": 5,
      "outputs": []
    },
    {
      "cell_type": "code",
      "metadata": {
        "id": "4Sy8I09pFOVJ",
        "colab_type": "code",
        "colab": {}
      },
      "source": [
        "#正規化 255colour\n",
        "x_Train_normalize = x_Train/255 \n",
        "x_Test_normalize = x_Test/255"
      ],
      "execution_count": 6,
      "outputs": []
    },
    {
      "cell_type": "code",
      "metadata": {
        "id": "sDesRlb4FiSG",
        "colab_type": "code",
        "colab": {}
      },
      "source": [
        "#答案變成binary顯示\n",
        "y_Train_OneHot = np_utils.to_categorical(y_train_label) \n",
        "y_Test_OneHot = np_utils.to_categorical(y_test_label)\n",
        "#把一個號碼，變成array中0~9的binary code形式"
      ],
      "execution_count": 7,
      "outputs": []
    },
    {
      "cell_type": "code",
      "metadata": {
        "id": "_cYXx8NSGGSF",
        "colab_type": "code",
        "colab": {}
      },
      "source": [
        "model = Sequential()\n",
        "model.add(Dense(units=256, #特征 0~255\n",
        "                input_dim=784, #輸入 28*28=784\n",
        "                kernel_initializer = 'normal', #初始化neauron 的weight和bias = 常態分佈\n",
        "                activation='relu')) #激發函數 ->線性，因為是絕對的輸入值"
      ],
      "execution_count": 8,
      "outputs": []
    },
    {
      "cell_type": "code",
      "metadata": {
        "id": "IT9DP6bVGQlO",
        "colab_type": "code",
        "colab": {}
      },
      "source": [
        "model.add(Dense(units=10, #輸出有10種 0~9\n",
        "                input_dim=784,\n",
        "                kernel_initializer = 'normal',\n",
        "                activation='softmax')) #激發函數 ->避免太過線性（因為推導的，所以圖形要彎曲，不要太過線性）"
      ],
      "execution_count": 9,
      "outputs": []
    },
    {
      "cell_type": "code",
      "metadata": {
        "id": "gd6snYDih2TH",
        "colab_type": "code",
        "colab": {
          "base_uri": "https://localhost:8080/",
          "height": 235
        },
        "outputId": "62016a10-f4ba-48cb-cb8a-644f3bf3c7ab"
      },
      "source": [
        "print(model.summary()) #隱藏層對應的neuron有256個、計算（784input*256characteristics）+256bias、隱藏層對應的輸出層有10個neuron"
      ],
      "execution_count": 11,
      "outputs": [
        {
          "output_type": "stream",
          "text": [
            "Model: \"sequential_1\"\n",
            "_________________________________________________________________\n",
            "Layer (type)                 Output Shape              Param #   \n",
            "=================================================================\n",
            "dense_1 (Dense)              (None, 256)               200960    \n",
            "_________________________________________________________________\n",
            "dense_2 (Dense)              (None, 10)                2570      \n",
            "=================================================================\n",
            "Total params: 203,530\n",
            "Trainable params: 203,530\n",
            "Non-trainable params: 0\n",
            "_________________________________________________________________\n",
            "None\n"
          ],
          "name": "stdout"
        }
      ]
    },
    {
      "cell_type": "code",
      "metadata": {
        "id": "6TQuzDDqI1Cs",
        "colab_type": "code",
        "colab": {}
      },
      "source": [
        "#開始train model\n",
        "model.compile(loss='categorical_crossentropy', #calculate predict和actual 的差距\n",
        "              optimizer='adam', metrics=['accuracy']) #優化、評估模型的方法\n",
        "\n",
        "train_history = model.fit(x=x_Train_normalize, #x is input\n",
        "                          y=y_Train_OneHot, validation_split=0.2, #y is actual ans 其它是預設參數\n",
        "                          epochs=10, batch_size=200, verbose=0)"
      ],
      "execution_count": 33,
      "outputs": []
    },
    {
      "cell_type": "code",
      "metadata": {
        "id": "q7pANbn9JR9N",
        "colab_type": "code",
        "colab": {
          "base_uri": "https://localhost:8080/",
          "height": 50
        },
        "outputId": "e6fffed4-d1b2-450a-9cd0-3440df075609"
      },
      "source": [
        "#測試準確率\n",
        "scores = model.evaluate(x_Test_normalize, y_Test_OneHot)\n",
        "print('accuracy=', scores[1])"
      ],
      "execution_count": 34,
      "outputs": [
        {
          "output_type": "stream",
          "text": [
            "10000/10000 [==============================] - 1s 72us/step\n",
            "accuracy= 0.9786999821662903\n"
          ],
          "name": "stdout"
        }
      ]
    },
    {
      "cell_type": "code",
      "metadata": {
        "id": "Zx3tplm_Ja4u",
        "colab_type": "code",
        "colab": {
          "base_uri": "https://localhost:8080/",
          "height": 50
        },
        "outputId": "c2ddae20-58de-498f-b4df-05c2f59f7c7f"
      },
      "source": [
        "#幾乎predict對\n",
        "prediction = model.predict_classes(x_Test_normalize)\n",
        "print(prediction)\n",
        "print(y_test_label)"
      ],
      "execution_count": 35,
      "outputs": [
        {
          "output_type": "stream",
          "text": [
            "[7 2 1 ... 4 5 6]\n",
            "[7 2 1 ... 4 5 6]\n"
          ],
          "name": "stdout"
        }
      ]
    },
    {
      "cell_type": "code",
      "metadata": {
        "id": "2B_Ps1P4J6PW",
        "colab_type": "code",
        "colab": {
          "base_uri": "https://localhost:8080/",
          "height": 50
        },
        "outputId": "8153aa3b-4b6d-4e93-eca6-7e29f82ffc56"
      },
      "source": [
        "#找出錯誤前兩百筆\n",
        "for i in range(0,200):\n",
        "  if prediction[i] != y_test_label[i]:\n",
        "    print(i, prediction[i], y_test_label[i])"
      ],
      "execution_count": 36,
      "outputs": [
        {
          "output_type": "stream",
          "text": [
            "8 6 5\n",
            "115 9 4\n"
          ],
          "name": "stdout"
        }
      ]
    },
    {
      "cell_type": "code",
      "metadata": {
        "id": "TDEPggbp6ebt",
        "colab_type": "code",
        "colab": {
          "base_uri": "https://localhost:8080/",
          "height": 34
        },
        "outputId": "8bc96b6c-ce15-43de-c3f0-f3b39abe26ab"
      },
      "source": [
        "#找出錯誤的資料\n",
        "def showInfor(images, labels, prediction, idx):\n",
        "  fig = plt.gcf() \n",
        "  fig.set_size_inches(12, 14) \n",
        "  num=25\n",
        "  i=0\n",
        "  while i < num:\n",
        "    if labels[idx] != prediction[idx]:\n",
        "      ax = plt.subplot(5,5, 1+i) # 小圖：size5x5、第1個，第2個，。。。按順序初始化第i圖\n",
        "      ax.imshow(images[idx], cmap='binary') #第幾個圖\n",
        "      title = \"label=\" + str(labels[idx]) #答案\n",
        "      title += \",predict=\" +str(prediction[idx]) #預測 \n",
        "      ax. set_title(title,fontsize=10) \n",
        "      ax.set_xticks([]) #隱藏xy label\n",
        "      ax.set_yticks([])\n",
        "      i+=1\n",
        "    idx+=1\n",
        "  plt.show()\n",
        "# showInfor(x_test_image, y_test_label, prediction, idx=0)\n",
        "\n",
        "errorListCount={}\n",
        "errorList={}\n",
        "def showInfor2(labels, prediction):\n",
        "  for i in range(len(labels)):\n",
        "    if(labels[i],prediction[i]) in errorList.keys():\n",
        "      errorListCount[(labels[i],prediction[i])] +=1\n",
        "      errorList[(labels[i],prediction[i])].append(i)\n",
        "    else:\n",
        "      errorListCount[(labels[i],prediction[i])] =1\n",
        "      errorList[(labels[i],prediction[i])] = [i]\n",
        "showInfor2(y_test_label, prediction)\n",
        "display(errorList[(3,8)])"
      ],
      "execution_count": 37,
      "outputs": [
        {
          "output_type": "display_data",
          "data": {
            "text/plain": [
              "[5955, 5973, 6023, 6046, 8277, 9944]"
            ]
          },
          "metadata": {
            "tags": []
          }
        }
      ]
    },
    {
      "cell_type": "code",
      "metadata": {
        "id": "xJJyhMbdn9np",
        "colab_type": "code",
        "colab": {}
      },
      "source": [
        "def plot_images_labels_prediction(images,labels,prediction,count): \n",
        "  fig = plt.gcf() \n",
        "  fig.set_size_inches(12, 14) \n",
        "  if count>25: count=25 \n",
        "  idx=0\n",
        "  if (labels, prediction) in errorList:\n",
        "    for idx in range(0, count): \n",
        "      if len(errorList[(labels, prediction)]) <= idx:\n",
        "        break\n",
        "      ax = plt.subplot(5,5, 1+idx) # 小圖：size5x5、第1個，第2個，。。。按順序初始化第i圖\n",
        "      ax.imshow(images[errorList[(labels,prediction)][idx]], cmap='binary') #第幾個圖\n",
        "      title = \"id=\" + str(errorList[(labels,prediction)][idx]) #答案\n",
        "      title += \",label=\" + str(labels) #答案\n",
        "      title += \",predict=\" +str(prediction) #預測 \n",
        "      ax. set_title(title,fontsize=10) \n",
        "      ax.set_xticks([]) #隱藏xy label\n",
        "      ax.set_yticks([])\n",
        "      idx+=1\n",
        "  plt.show()"
      ],
      "execution_count": 38,
      "outputs": []
    },
    {
      "cell_type": "code",
      "metadata": {
        "id": "wVMoU99foaC2",
        "colab_type": "code",
        "colab": {
          "base_uri": "https://localhost:8080/",
          "height": 321
        },
        "outputId": "4ad12d44-1725-419b-9a0d-8ed56e916ca6"
      },
      "source": [
        "plot_images_labels_prediction(x_test_image, 3,8,10)"
      ],
      "execution_count": 39,
      "outputs": [
        {
          "output_type": "display_data",
          "data": {
            "image/png": "[encoded data removed]",
            "text/plain": [
              "<Figure size 864x1008 with 6 Axes>"
            ]
          },
          "metadata": {
            "tags": []
          }
        }
      ]
    },
    {
      "cell_type": "code",
      "metadata": {
        "id": "f212GxuCqyfH",
        "colab_type": "code",
        "colab": {
          "base_uri": "https://localhost:8080/",
          "height": 309,
          "referenced_widgets": [
            "525c0d564eb848dea6f93f1ee9d113fa",
            "7b6eedf756dd4be6a5d340e8fff4b9d6",
            "551138e770d94ed787e11ef33f67b335",
            "d80e343ec4ab46cda01a040e639f0983",
            "f3c83da3947849c0a5e0f5f9f18a0c6c",
            "6a8b931340ca446cbc1b02c2551e5e6d",
            "19109fbca4034383af1006767c99f4a0",
            "3121e5a087b84d9e8d29b49a6eedb9e7",
            "c69273eddfad48d08295a4e8f5bbf765",
            "7e07176d09c6486687a504f36dbe479a",
            "f89a1b9d7bfa4fe38964209fe0691cf2",
            "967143e5a6be48c08b81c2cae042a103",
            "fce9809960ae44b1b9afb28e26470820",
            "3112164c27df4fff8914a0a3d612e30e",
            "b24d7f5a6a9447a18b0cc54c9b0422ee",
            "deefaf96a0424e9aa7b179c74ee06ea6"
          ]
        },
        "outputId": "fee2b091-abab-4bda-9ae0-26b85cd5a704"
      },
      "source": [
        "def find(actual,prediction,count):\n",
        "  plot_images_labels_prediction(x_test_image, actual,prediction,count)\n",
        "\n",
        "interact_manual(find, actual=(0,9), prediction=(0,9), count=(1,25))"
      ],
      "execution_count": 42,
      "outputs": [
        {
          "output_type": "display_data",
          "data": {
            "application/vnd.jupyter.widget-view+json": {
              "model_id": "525c0d564eb848dea6f93f1ee9d113fa",
              "version_minor": 0,
              "version_major": 2
            },
            "text/plain": [
              "interactive(children=(IntSlider(value=4, description='actual', max=9), IntSlider(value=4, description='predict…"
            ]
          },
          "metadata": {
            "tags": []
          }
        },
        {
          "output_type": "execute_result",
          "data": {
            "text/plain": [
              "<function __main__.find>"
            ]
          },
          "metadata": {
            "tags": []
          },
          "execution_count": 42
        }
      ]
    },
    {
      "cell_type": "code",
      "metadata": {
        "id": "qq6B2LyhEeSe",
        "colab_type": "code",
        "colab": {}
      },
      "source": [
        "#x_train_image[0]"
      ],
      "execution_count": null,
      "outputs": []
    }
  ]
}